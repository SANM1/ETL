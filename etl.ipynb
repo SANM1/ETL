{
 "cells": [
  {
   "cell_type": "markdown",
   "metadata": {},
   "source": [
    "# Extract Data"
   ]
  },
  {
   "cell_type": "code",
   "execution_count": null,
   "metadata": {},
   "outputs": [],
   "source": [
    "import pandas as pd  # type: ignore # Import the Pandas library for data manipulation and analysis\n",
    "\n",
    "# Read the Excel file into a Pandas DataFrame\n",
    "df = pd.read_excel(\"transactions.xlsx\", engine=\"openpyxl\")  \n",
    "# \"transactions.xlsx\" is the file containing transaction data\n",
    "# The \"engine='openpyxl'\" parameter ensures compatibility with modern Excel file formats (.xlsx)\n",
    "\n",
    "# Display the first few rows of the DataFrame\n",
    "df.head()  # Shows the first 5 rows of the dataset for quick inspection\n"
   ]
  },
  {
   "cell_type": "markdown",
   "metadata": {},
   "source": [
    "# Transform Data"
   ]
  },
  {
   "cell_type": "code",
   "execution_count": null,
   "metadata": {},
   "outputs": [],
   "source": [
    "# Remove the last unnamed column (\".\")\n",
    "df = df.iloc[:, :-1]  \n",
    "# The last column in the dataset appears to be an unwanted/empty column, so we drop it by selecting all columns except the last one.\n",
    "\n",
    "# Clean the 'Account No' column\n",
    "df[\"Account No\"] = df[\"Account No\"].astype(str).str.replace(\"'\", \"\")  \n",
    "# Convert 'Account No' column to string type to ensure uniformity\n",
    "# Remove any single quotes (') present in the 'Account No' column to clean the data\n"
   ]
  },
  {
   "cell_type": "code",
   "execution_count": null,
   "metadata": {},
   "outputs": [],
   "source": [
    "# Convert date columns to datetime format\n",
    "df[\"DATE\"] = pd.to_datetime(df[\"DATE\"], errors=\"coerce\")  \n",
    "# Convert the 'DATE' column to datetime format for proper date-based analysis\n",
    "# The 'errors=\"coerce\"' argument ensures that any invalid date formats are converted to NaT (Not a Time)\n",
    "\n",
    "df[\"VALUE DATE\"] = pd.to_datetime(df[\"VALUE DATE\"], errors=\"coerce\")  \n",
    "# Convert the 'VALUE DATE' column to datetime format for consistency and easier date-based operations\n",
    "# 'errors=\"coerce\"' handles any incorrect or missing date values by converting them to NaT\n"
   ]
  },
  {
   "cell_type": "code",
   "execution_count": null,
   "metadata": {},
   "outputs": [],
   "source": [
    "# Fill missing values in the 'CHQ.NO.' column with \"Not Available\"\n",
    "# This ensures that blank cheque numbers are replaced with a readable value instead of NaN.\n",
    "df[\"CHQ.NO.\"] = df[\"CHQ.NO.\"].fillna(\"Not Available\")\n",
    "\n",
    "# Replace NaN (missing values) in the 'WITHDRAWAL AMT' column with 0\n",
    "# This ensures that missing withdrawal amounts are treated as zero instead of NaN.\n",
    "df[\"WITHDRAWAL AMT\"] = df[\"WITHDRAWAL AMT\"].fillna(0)\n",
    "\n",
    "# Replace NaN (missing values) in the 'DEPOSIT AMT' column with 0\n",
    "# This ensures that missing deposit amounts are treated as zero instead of NaN.\n",
    "df[\"DEPOSIT AMT\"] = df[\"DEPOSIT AMT\"].fillna(0)\n"
   ]
  },
  {
   "cell_type": "code",
   "execution_count": null,
   "metadata": {},
   "outputs": [],
   "source": [
    "# Define a new column 'Transaction Type' based on the transaction amounts\n",
    "# If 'DEPOSIT AMT' is greater than 0, classify the transaction as \"Deposit\"\n",
    "# Otherwise, classify it as \"Withdrawal\"\n",
    "df[\"Transaction Type\"] = df.apply(lambda row: \"Deposit\" if row[\"DEPOSIT AMT\"] > 0 else \"Withdrawal\", axis=1)\n"
   ]
  },
  {
   "cell_type": "code",
   "execution_count": null,
   "metadata": {},
   "outputs": [],
   "source": [
    "# Extract the year from the 'DATE' column and store it in a new column 'Year'\n",
    "df[\"Year\"] = df[\"DATE\"].dt.year  \n",
    "\n",
    "# Extract the month from the 'DATE' column and store it in a new column 'Month'\n",
    "df[\"Month\"] = df[\"DATE\"].dt.month  \n"
   ]
  },
  {
   "cell_type": "code",
   "execution_count": null,
   "metadata": {},
   "outputs": [],
   "source": [
    "df # Dataframe (showing the data)"
   ]
  },
  {
   "cell_type": "markdown",
   "metadata": {},
   "source": [
    "# Load Data"
   ]
  },
  {
   "cell_type": "code",
   "execution_count": null,
   "metadata": {},
   "outputs": [],
   "source": [
    "import sqlite3  # Import SQLite3 to interact with an SQLite database\n",
    "\n",
    "# Connect to SQLite database (creates the database file 'bank_transactions.db' if it does not exist)\n",
    "conn = sqlite3.connect(\"bank_transactions.db\")\n",
    "\n",
    "# Store the transformed DataFrame into an SQL table named 'transactions'\n",
    "# - if_exists=\"replace\" ensures that if the table already exists, it will be replaced with new data\n",
    "# - index=False prevents Pandas from writing the DataFrame index as a separate column in the database\n",
    "df.to_sql(\"transactions\", conn, if_exists=\"replace\", index=False)\n",
    "\n",
    "# Close the connection to free resources and ensure data is properly written to the database\n",
    "conn.close()\n"
   ]
  },
  {
   "cell_type": "code",
   "execution_count": null,
   "metadata": {},
   "outputs": [],
   "source": []
  }
 ],
 "metadata": {
  "kernelspec": {
   "display_name": "Python 3",
   "language": "python",
   "name": "python3"
  },
  "language_info": {
   "codemirror_mode": {
    "name": "ipython",
    "version": 3
   },
   "file_extension": ".py",
   "mimetype": "text/x-python",
   "name": "python",
   "nbconvert_exporter": "python",
   "pygments_lexer": "ipython3",
   "version": "3.12.6"
  }
 },
 "nbformat": 4,
 "nbformat_minor": 2
}
